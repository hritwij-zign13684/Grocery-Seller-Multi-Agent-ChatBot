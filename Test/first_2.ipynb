{
 "cells": [
  {
   "cell_type": "markdown",
   "id": "7f7a9052",
   "metadata": {},
   "source": [
    "Developed a modular multi-agent AI system for automating complex workflows in the grocery delivery domain using Python and advanced LLM orchestration frameworks.\n",
    "Leveraged LangChain and AWS Bedrock (Claude 3.5 Haiku) for robust natural language understanding, multi-step reasoning, and dynamic task execution.\n",
    "Architected a hierarchical agent structure with a central supervisor agent coordinating specialized sub-agents for product search, delivery scheduling, and customer communication.\n",
    "Designed flexible input handling, enabling the chatbot to process free-form user queries and structured requests, and generate detailed, context-aware responses.\n",
    "Implemented dynamic planning, task decomposition, and error recovery, allowing the system to adapt plans based on intermediate results and external data.\n",
    "Integrated external tools and APIs for real-time web search, data retrieval, and workflow augmentation, enhancing the agent’s knowledge and capabilities.\n",
    "Utilized Pydantic for structured data validation and dotenv for secure environment configuration.\n",
    "Supported asynchronous execution and session memory, enabling efficient, scalable, and stateful conversations.\n",
    "Engineered modular prompts and output parsing to ensure reliable, interpretable, and correct agent outputs.\n",
    "Applied real-world datasets for agent evaluation and prototyping, ensuring practical relevance and robustness.\n",
    "Designed the system for extensibility, allowing seamless addition of new tools, agent types, and custom workflows.\n",
    "Documented architecture and workflows with diagrams and technical documentation to support maintainability and team onboarding."
   ]
  },
  {
   "cell_type": "code",
   "execution_count": null,
   "id": "283819fe",
   "metadata": {},
   "outputs": [
    {
     "name": "stdout",
     "output_type": "stream",
     "text": [
      "<svg viewBox=\"0 0 200 100\" width=\"200\" height=\"100\" xmlns=\"http://www.w3.org/2000/svg\">\n",
      "  <rect x=\"0\" y=\"0\" width=\"200\" height=\"100\" fill=\"lightblue\" />\n",
      "  <polygon points=\"20,90 60,40 100,90\" fill=\"white\" />\n",
      "  <polygon points=\"60,90 100,50 140,90\" fill=\"white\" />\n",
      "  <polygon points=\"100,90 140,60 180,90\" fill=\"white\" />\n",
      "</svg>\n"
     ]
    }
   ],
   "source": [
    "import re\n",
    "\n",
    "\"\"\"\n",
    "Generate a funtion that will take following string input:/\n",
    "input = So we found the follwoing code output\n",
    "<svg viewBox=\"0 0 200 100\" width=\"200\" height=\"100\" xmlns=\"http://www.w3.org/2000/svg\">\n",
    "  <rect x=\"0\" y=\"0\" width=\"200\" height=\"100\" fill=\"lightblue\" />\n",
    "  <polygon points=\"20,90 60,40 100,90\" fill=\"white\" />\n",
    "  <polygon points=\"60,90 100,50 140,90\" fill=\"white\" />\n",
    "  <polygon points=\"100,90 140,60 180,90\" fill=\"white\" />\n",
    "</svg>as this code is very generic, we will detail it.\n",
    "\n",
    "and should generate following string output:\n",
    "output = <svg viewBox=\"0 0 200 100\" width=\"200\" height=\"100\" xmlns=\"http://www.w3.org/2000/svg\">\n",
    "  <rect x=\"0\" y=\"0\" width=\"200\" height=\"100\" fill=\"lightblue\" />\n",
    "  <polygon points=\"20,90 60,40 100,90\" fill=\"white\" />\n",
    "  <polygon points=\"60,90 100,50 140,90\" fill=\"white\" />\n",
    "  <polygon points=\"100,90 140,60 180,90\" fill=\"white\" />\n",
    "</svg>\n",
    "\"\"\"\n",
    "\n",
    "class SVGExtractor:\n",
    "  @staticmethod\n",
    "  def extract_svg(input_str):\n",
    "    match = re.search(r'(<svg[\\s\\S]*?</svg>)', input_str)\n",
    "    if match:\n",
    "      return match.group(1)\n",
    "    return \"\"\n",
    " \n",
    "# Example usage:\n",
    "input_str = \"\"\"So we found the follwoing code output\n",
    "<svg viewBox=\"0 0 200 100\" width=\"200\" height=\"100\" xmlns=\"http://www.w3.org/2000/svg\">\n",
    "  <rect x=\"0\" y=\"0\" width=\"200\" height=\"100\" fill=\"lightblue\" />\n",
    "  <polygon points=\"20,90 60,40 100,90\" fill=\"white\" />\n",
    "  <polygon points=\"60,90 100,50 140,90\" fill=\"white\" />\n",
    "  <polygon points=\"100,90 140,60 180,90\" fill=\"white\" />\n",
    "</svg>as this code is very generic, we will detail it.\n",
    "\"\"\"\n",
    "\n",
    "output = extract_svg(input_str)\n",
    "print(output)"
   ]
  },
  {
   "cell_type": "code",
   "execution_count": null,
   "id": "66dc9a1f",
   "metadata": {},
   "outputs": [],
   "source": [
    "\"\"\"You are a SVG Image code generator and you generate code for provided description of image adhering provided constraints, without comments  and other messages.\n",
    "Think about elements to be added as per description of image and following constraints.\n",
    "\n",
    "<constraints>\n",
    "* **Allowed Elements:** `svg`, `path`, `circle`, `rect`, `ellipse`, `line`, `polyline`, `polygon`, `g`, `linearGradient`, `radialGradient`, `stop`, `defs`\n",
    "* **Allowed Attributes:** `viewBox`, `width`, `height`, `fill`, `stroke`, `stroke-width`, `d`, `cx`, `cy`, `r`, `x`, `y`, `rx`, `ry`, `x1`, `y1`, `x2`, `y2`, `points`, `transform`, `opacity`\n",
    "</constraints>\n",
    "\n",
    "\n",
    "The descriptions are of common, generic subjects. No brand name or trademark or personal name occurs in any description. No people, even in generic form, occur in any description.\n",
    "The subjects described span about a dozen categories. Three of these categories, landscapes, abstract, and fashion.\n",
    "No description has more than 200 characters. The average length is around 50 characters.\n",
    "\n",
    "Given below are examples of expected format and structure of output :\n",
    "\n",
    "Example 1.\n",
    "<svg viewBox=\"0 0 200 100\" width=\"200\" height=\"100\" xmlns=\"http://www.w3.org/2000/svg\">\n",
    "  <rect x=\"0\" y=\"0\" width=\"200\" height=\"100\" fill=\"skyblue\" />\n",
    "  <polygon points=\"50,90 100,30 150,90\" fill=\"white\" stroke=\"gray\" stroke-width=\"1\" />\n",
    "  <polygon points=\"70,90 120,40 170,90\" fill=\"white\" stroke=\"gray\" stroke-width=\"1\" />\n",
    "  <polygon points=\"90,90 140,50 190,90\" fill=\"white\" stroke=\"gray\" stroke-width=\"1\" />\n",
    "</svg>\n",
    "\n",
    "Example 2.\n",
    "<svg viewBox=\"0 0 100 100\" width=\"100\" height=\"100\" xmlns=\"http://www.w3.org/2000/svg\">\n",
    "  <rect x=\"0\" y=\"0\" width=\"50\" height=\"50\" fill=\"green\"/>\n",
    "  <rect x=\"50\" y=\"0\" width=\"50\" height=\"50\" fill=\"black\"/>\n",
    "  <rect x=\"0\" y=\"50\" width=\"50\" height=\"50\" fill=\"black\"/>\n",
    "  <rect x=\"50\" y=\"50\" width=\"50\" height=\"50\" fill=\"green\"/>\n",
    "</svg>\n",
    "\n",
    "\n",
    "Generate the code for provided description.\n",
    "\"\"\""
   ]
  },
  {
   "cell_type": "code",
   "execution_count": null,
   "id": "2fb4d061",
   "metadata": {},
   "outputs": [],
   "source": [
    "def svg_size_in_bytes(svg_code: str) -> int:\n",
    "    return len(svg_code.encode('utf-8'))"
   ]
  },
  {
   "cell_type": "code",
   "execution_count": null,
   "id": "20daaeae",
   "metadata": {},
   "outputs": [],
   "source": []
  }
 ],
 "metadata": {
  "kernelspec": {
   "display_name": "Python 3",
   "language": "python",
   "name": "python3"
  },
  "language_info": {
   "codemirror_mode": {
    "name": "ipython",
    "version": 3
   },
   "file_extension": ".py",
   "mimetype": "text/x-python",
   "name": "python",
   "nbconvert_exporter": "python",
   "pygments_lexer": "ipython3",
   "version": "3.13.2"
  }
 },
 "nbformat": 4,
 "nbformat_minor": 5
}
